{
 "cells": [
  {
   "cell_type": "markdown",
   "metadata": {},
   "source": [
    "# Guide to: How to compare different implementation paradigms in python?"
   ]
  },
  {
   "cell_type": "markdown",
   "metadata": {},
   "source": [
    "Function to record the execution time of each of the function."
   ]
  },
  {
   "cell_type": "code",
   "execution_count": 131,
   "metadata": {},
   "outputs": [],
   "source": [
    "#  importing libraries in the scope\n",
    "import numpy as np\n",
    "import numexpr as ne\n",
    "\n",
    "def record_comp_time(func_list, data_list, rep=3, number=1):\n",
    "    ''' Function to compare the performance of different functions.\n",
    "    Args:\n",
    "    func_list : list\n",
    "      list with function names as strings\n",
    "    data_list : list\n",
    "      list with data set names as strings\n",
    "    rep : int\n",
    "        number of repetitions of the whole comparison\n",
    "    number : int\n",
    "        number of executions for every function\n",
    "    '''\n",
    "    from timeit import repeat \n",
    "    otpt_list = {}\n",
    "    for name in enumerate(func_list):\n",
    "        stmt = name[1] + '(' + data_list[name[0]] + ')'\n",
    "        setup = \"from __main__ import \" + name[1] + ', ' + data_list[name[0]]\n",
    "        outputs = repeat(stmt=stmt, setup=setup, repeat=rep, number=number)\n",
    "        otpt_list[name[1]] = sum(outputs) / rep\n",
    "    otpt_sort = sorted(otpt_list.items())\n",
    "    for item in otpt_sort:\n",
    "        rel = item[1] / otpt_sort[0][1]\n",
    "        print('Function: ' + item[0] + ', av.time sec: %9.5f, ' % item[1] + 'relative: %6.1f' % rel)"
   ]
  },
  {
   "cell_type": "code",
   "execution_count": 132,
   "metadata": {},
   "outputs": [],
   "source": [
    "from math import *\n",
    "def f(x):\n",
    "    \"\"\"\n",
    "    Performs the mathematical operation on\n",
    "    the provided number\n",
    "    \"\"\"\n",
    "    return abs(cos(x) + sin(x)) ** 0.5\n",
    "    "
   ]
  },
  {
   "cell_type": "code",
   "execution_count": 143,
   "metadata": {},
   "outputs": [],
   "source": [
    "# Creating a list object with 100,000 numbers\n",
    "n = 100000\n",
    "data_num = range(n)"
   ]
  },
  {
   "cell_type": "code",
   "execution_count": 144,
   "metadata": {},
   "outputs": [],
   "source": [
    "def f1(data_list):\n",
    "    \"\"\"loops over the entire dataset\n",
    "    and appends the output from the function f(x) \n",
    "    to the output list object.\n",
    "    \"\"\"\n",
    "    otpt = []\n",
    "    for x in data_list:\n",
    "        otpt.append(f(x))\n",
    "    return otpt\n",
    "\n",
    "\n",
    "def f2(data_list):\n",
    "    \"\"\"implementation using iterators\n",
    "    \"\"\"\n",
    "    return [f(x) for x in data_list]\n",
    "\n",
    "def f3(data_list):\n",
    "    \"\"\" using the eval method to evaluate\n",
    "    mathematical expression.\n",
    "    \"\"\"\n",
    "    exp = 'abs(cos(x) + sin(x)) ** 0.5'\n",
    "    return [eval(exp) for x in data_list]\n",
    "\n",
    "# We can have the same output using numpy \n",
    "import numpy as np\n",
    "data_np = np.arange(100000)\n",
    "\n",
    "def f4(data_np):\n",
    "    \"\"\"using the numpy vectorization\n",
    "    \"\"\"\n",
    "    return (np.abs(np.cos(data_np) + np.sin(data_np)) ** 0.5)"
   ]
  },
  {
   "cell_type": "code",
   "execution_count": 145,
   "metadata": {},
   "outputs": [],
   "source": [
    "# Now implementing the same using numexpr\n",
    "import numexpr as ne\n",
    "def f5(val):\n",
    "    exp = 'abs(cos(val) + sin(val)) ** 0.5'\n",
    "    ne.set_num_threads(5)\n",
    "    return ne.evaluate(exp)"
   ]
  },
  {
   "cell_type": "code",
   "execution_count": 146,
   "metadata": {},
   "outputs": [
    {
     "name": "stdout",
     "output_type": "stream",
     "text": [
      "CPU times: user 2.02 s, sys: 31.1 ms, total: 2.05 s\n",
      "Wall time: 2.08 s\n"
     ]
    }
   ],
   "source": [
    "%%time\n",
    "otp1 = f1(data_num)\n",
    "otp2 = f2(data_num)\n",
    "otp3 = f3(data_num)\n",
    "otp4 = f4(data_np)\n",
    "otp5 = f5(data_np)"
   ]
  },
  {
   "cell_type": "code",
   "execution_count": 147,
   "metadata": {},
   "outputs": [
    {
     "data": {
      "text/plain": [
       "True"
      ]
     },
     "execution_count": 147,
     "metadata": {},
     "output_type": "execute_result"
    }
   ],
   "source": [
    "np.allclose(otp1, otp2)"
   ]
  },
  {
   "cell_type": "code",
   "execution_count": 148,
   "metadata": {},
   "outputs": [
    {
     "data": {
      "text/plain": [
       "True"
      ]
     },
     "execution_count": 148,
     "metadata": {},
     "output_type": "execute_result"
    }
   ],
   "source": [
    "np.allclose(otp1, otp3)"
   ]
  },
  {
   "cell_type": "code",
   "execution_count": 149,
   "metadata": {},
   "outputs": [
    {
     "data": {
      "text/plain": [
       "True"
      ]
     },
     "execution_count": 149,
     "metadata": {},
     "output_type": "execute_result"
    }
   ],
   "source": [
    "np.allclose(otp1, otp4)"
   ]
  },
  {
   "cell_type": "code",
   "execution_count": 150,
   "metadata": {},
   "outputs": [
    {
     "data": {
      "text/plain": [
       "True"
      ]
     },
     "execution_count": 150,
     "metadata": {},
     "output_type": "execute_result"
    }
   ],
   "source": [
    "np.allclose(otp1, otp5)"
   ]
  },
  {
   "cell_type": "code",
   "execution_count": 151,
   "metadata": {},
   "outputs": [],
   "source": [
    "function_list = ['f1', 'f2', 'f3', 'f4', 'f5']\n",
    "data_com_list =  ['data_num', 'data_num', 'data_num', 'data_np', 'data_np']"
   ]
  },
  {
   "cell_type": "code",
   "execution_count": 152,
   "metadata": {},
   "outputs": [
    {
     "name": "stdout",
     "output_type": "stream",
     "text": [
      "Function: f1, av.time sec:   0.06869, relative:    1.0\n",
      "Function: f2, av.time sec:   0.05889, relative:    0.9\n",
      "Function: f3, av.time sec:   1.82648, relative:   26.6\n",
      "Function: f4, av.time sec:   0.00408, relative:    0.1\n",
      "Function: f5, av.time sec:   0.00205, relative:    0.0\n"
     ]
    }
   ],
   "source": [
    "record_comp_time(function_list, data_com_list)"
   ]
  }
 ],
 "metadata": {
  "kernelspec": {
   "display_name": "Python 3",
   "language": "python",
   "name": "python3"
  },
  "language_info": {
   "codemirror_mode": {
    "name": "ipython",
    "version": 3
   },
   "file_extension": ".py",
   "mimetype": "text/x-python",
   "name": "python",
   "nbconvert_exporter": "python",
   "pygments_lexer": "ipython3",
   "version": "3.7.0"
  }
 },
 "nbformat": 4,
 "nbformat_minor": 2
}
